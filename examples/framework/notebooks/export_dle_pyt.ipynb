{
 "cells": [
  {
   "cell_type": "markdown",
   "id": "a8c85337",
   "metadata": {},
   "source": [
    "### Model Navigator installation"
   ]
  },
  {
   "cell_type": "code",
   "execution_count": 1,
   "id": "6c600f83",
   "metadata": {},
   "outputs": [
    {
     "name": "stdout",
     "output_type": "stream",
     "text": [
      "Looking in indexes: https://pypi.org/simple, https://pypi.ngc.nvidia.com\n",
      "Processing /workspace/repositories/model_navigator\n",
      "\u001b[33m  DEPRECATION: A future pip version will change local packages to be built in-place without first copying to a temporary directory. We recommend you use --use-feature=in-tree-build to test your packages with this new behavior before it becomes the default.\n",
      "   pip 21.3 will remove support for this functionality. You can find discussion regarding this at https://github.com/pypa/pip/issues/7555.\u001b[0m\n",
      "  Installing build dependencies ... \u001b[?25ldone\n",
      "\u001b[?25h  Getting requirements to build wheel ... \u001b[?25ldone\n",
      "\u001b[?25h    Preparing wheel metadata ... \u001b[?25ldone\n",
      "\u001b[?25hRequirement already satisfied: jinja2>=2.11.3 in /opt/conda/lib/python3.8/site-packages (from model-navigator==0.2.7) (3.0.3)\n",
      "Requirement already satisfied: Pyro4>=4.82 in /opt/conda/lib/python3.8/site-packages (from model-navigator==0.2.7) (4.82)\n",
      "Requirement already satisfied: dacite>=1.6.0 in /opt/conda/lib/python3.8/site-packages (from model-navigator==0.2.7) (1.6.0)\n",
      "Requirement already satisfied: py-cpuinfo>=8.0.0 in /opt/conda/lib/python3.8/site-packages (from model-navigator==0.2.7) (8.0.0)\n",
      "Requirement already satisfied: coloredlogs>=15.0.0 in /opt/conda/lib/python3.8/site-packages (from model-navigator==0.2.7) (15.0.1)\n",
      "Requirement already satisfied: polygraphy>=0.33.1 in /opt/conda/lib/python3.8/site-packages (from model-navigator==0.2.7) (0.35.1)\n",
      "Requirement already satisfied: colored>=1.4.2 in /opt/conda/lib/python3.8/site-packages (from model-navigator==0.2.7) (1.4.3)\n",
      "Requirement already satisfied: ruamel.yaml>=0.15.0 in /opt/conda/lib/python3.8/site-packages (from model-navigator==0.2.7) (0.17.20)\n",
      "Requirement already satisfied: psutil>=5.7.0 in /opt/conda/lib/python3.8/site-packages (from model-navigator==0.2.7) (5.9.0)\n",
      "Requirement already satisfied: typing-inspect>=0.6.0 in /opt/conda/lib/python3.8/site-packages (from model-navigator==0.2.7) (0.7.1)\n",
      "Requirement already satisfied: onnxruntime-gpu<1.10.0,>=1.8.0 in /opt/conda/lib/python3.8/site-packages (from model-navigator==0.2.7) (1.9.0)\n",
      "Requirement already satisfied: onnx-graphsurgeon>=0.3.14 in /opt/conda/lib/python3.8/site-packages (from model-navigator==0.2.7) (0.3.16)\n",
      "Requirement already satisfied: humanfriendly>=9.1 in /opt/conda/lib/python3.8/site-packages (from coloredlogs>=15.0.0->model-navigator==0.2.7) (10.0)\n",
      "Requirement already satisfied: MarkupSafe>=2.0 in /opt/conda/lib/python3.8/site-packages (from jinja2>=2.11.3->model-navigator==0.2.7) (2.0.1)\n",
      "Requirement already satisfied: numpy in /opt/conda/lib/python3.8/site-packages (from onnx-graphsurgeon>=0.3.14->model-navigator==0.2.7) (1.22.0)\n",
      "Requirement already satisfied: onnx in /opt/conda/lib/python3.8/site-packages (from onnx-graphsurgeon>=0.3.14->model-navigator==0.2.7) (1.10.1)\n",
      "Requirement already satisfied: protobuf in /opt/conda/lib/python3.8/site-packages (from onnxruntime-gpu<1.10.0,>=1.8.0->model-navigator==0.2.7) (3.19.4)\n",
      "Requirement already satisfied: flatbuffers in /opt/conda/lib/python3.8/site-packages (from onnxruntime-gpu<1.10.0,>=1.8.0->model-navigator==0.2.7) (2.0)\n",
      "Requirement already satisfied: serpent>=1.27 in /opt/conda/lib/python3.8/site-packages (from Pyro4>=4.82->model-navigator==0.2.7) (1.40)\n",
      "Requirement already satisfied: ruamel.yaml.clib>=0.2.6 in /opt/conda/lib/python3.8/site-packages (from ruamel.yaml>=0.15.0->model-navigator==0.2.7) (0.2.6)\n",
      "Requirement already satisfied: typing-extensions>=3.7.4 in /opt/conda/lib/python3.8/site-packages (from typing-inspect>=0.6.0->model-navigator==0.2.7) (4.0.1)\n",
      "Requirement already satisfied: mypy-extensions>=0.3.0 in /opt/conda/lib/python3.8/site-packages (from typing-inspect>=0.6.0->model-navigator==0.2.7) (0.4.3)\n",
      "Requirement already satisfied: six in /opt/conda/lib/python3.8/site-packages (from onnx->onnx-graphsurgeon>=0.3.14->model-navigator==0.2.7) (1.16.0)\n",
      "Requirement already satisfied: wget in /opt/conda/lib/python3.8/site-packages (from onnx->onnx-graphsurgeon>=0.3.14->model-navigator==0.2.7) (3.2)\n",
      "Building wheels for collected packages: model-navigator\n",
      "  Building wheel for model-navigator (PEP 517) ... \u001b[?25ldone\n",
      "\u001b[?25h  Created wheel for model-navigator: filename=model_navigator-0.2.7-py3-none-any.whl size=464991 sha256=e9a0ea9d1f4abcae66958c48254ddf32917b9c280a522de7ba78a35571e5b6d5\n",
      "  Stored in directory: /tmp/pip-ephem-wheel-cache-c3ch93mi/wheels/73/49/06/ce9a60907abd2ee285ba78be9c4082887856186224899f6af5\n",
      "Successfully built model-navigator\n",
      "Installing collected packages: model-navigator\n",
      "  Attempting uninstall: model-navigator\n",
      "    Found existing installation: model-navigator 0.2.7\n",
      "    Uninstalling model-navigator-0.2.7:\n",
      "      Successfully uninstalled model-navigator-0.2.7\n",
      "Successfully installed model-navigator-0.2.7\n",
      "\u001b[33mWARNING: Running pip as the 'root' user can result in broken permissions and conflicting behaviour with the system package manager. It is recommended to use a virtual environment instead: https://pip.pypa.io/warnings/venv\u001b[0m\n"
     ]
    }
   ],
   "source": [
    "!pip install /workspace/repositories/model_navigator[pyt]"
   ]
  },
  {
   "cell_type": "markdown",
   "id": "bdbdec74",
   "metadata": {},
   "source": [
    "### Imports"
   ]
  },
  {
   "cell_type": "code",
   "execution_count": 2,
   "id": "0c435912",
   "metadata": {},
   "outputs": [
    {
     "name": "stderr",
     "output_type": "stream",
     "text": [
      "/opt/conda/lib/python3.8/site-packages/numpy/core/getlimits.py:499: UserWarning: The value of the smallest subnormal for <class 'numpy.float64'> type is zero.\n",
      "  setattr(self, word, getattr(machar, word).flat[0])\n",
      "/opt/conda/lib/python3.8/site-packages/numpy/core/getlimits.py:89: UserWarning: The value of the smallest subnormal for <class 'numpy.float64'> type is zero.\n",
      "  return self._float_to_str(self.smallest_subnormal)\n",
      "/opt/conda/lib/python3.8/site-packages/numpy/core/getlimits.py:499: UserWarning: The value of the smallest subnormal for <class 'numpy.float32'> type is zero.\n",
      "  setattr(self, word, getattr(machar, word).flat[0])\n",
      "/opt/conda/lib/python3.8/site-packages/numpy/core/getlimits.py:89: UserWarning: The value of the smallest subnormal for <class 'numpy.float32'> type is zero.\n",
      "  return self._float_to_str(self.smallest_subnormal)\n"
     ]
    }
   ],
   "source": [
    "import subprocess\n",
    "import sys\n",
    "import tempfile\n",
    "\n",
    "import model_navigator as nav\n",
    "import numpy as np\n",
    "import torch"
   ]
  },
  {
   "cell_type": "markdown",
   "id": "bf956adc",
   "metadata": {},
   "source": [
    "### Helper functions"
   ]
  },
  {
   "cell_type": "code",
   "execution_count": 3,
   "id": "4f1de11c",
   "metadata": {},
   "outputs": [],
   "source": [
    "def setup_env(workdir):\n",
    "    cmd = [\"git\", \"clone\", \"https://github.com/NVIDIA/DeepLearningExamples\", f\"{workdir}/DeepLearningExamples\"]\n",
    "    subprocess.run(cmd, check=True)\n",
    "    sys.path.append(f\"{workdir}/DeepLearningExamples/PyTorch/Classification/ConvNets/\")"
   ]
  },
  {
   "cell_type": "code",
   "execution_count": 4,
   "id": "10efc45c",
   "metadata": {},
   "outputs": [],
   "source": [
    "def get_top1_accuracy(runner, dataloader):\n",
    "    correct, total = 0, 0\n",
    "    with runner:\n",
    "        for x, y in iter(dataloader):\n",
    "            x, y = x.cpu().numpy(), y.cpu().numpy()\n",
    "            output = runner.infer({\"image\": x})\n",
    "            y_pred = np.argmax(output[\"logits\"], axis=1)\n",
    "            total += len(y)\n",
    "            correct += np.sum(y_pred == y)\n",
    "    return correct / total"
   ]
  },
  {
   "cell_type": "markdown",
   "id": "02b1b9a8",
   "metadata": {},
   "source": [
    "### Export configuration"
   ]
  },
  {
   "cell_type": "code",
   "execution_count": 5,
   "id": "84fb100f",
   "metadata": {},
   "outputs": [],
   "source": [
    "MODEL_NAME = \"resnet50\"\n",
    "DATA_PATH = \"/workspace/repositories/model_navigator/data/\"\n",
    "WORKDIR = \"/workspace/repositories/model_navigator/navigator_workdir/\"\n",
    "DEVICE = \"cuda\"\n",
    "IMAGE_SIZE = 224\n",
    "BATCH_SIZE = 16\n",
    "NUM_CLASSES = 1000\n",
    "MIN_ACCURACY = 0.785"
   ]
  },
  {
   "cell_type": "markdown",
   "id": "ef63bc65",
   "metadata": {},
   "source": [
    "### Prepare image_classification module"
   ]
  },
  {
   "cell_type": "code",
   "execution_count": 6,
   "id": "03362ef5",
   "metadata": {},
   "outputs": [
    {
     "name": "stderr",
     "output_type": "stream",
     "text": [
      "Cloning into '/workspace/repositories/model_navigator/navigator_workdir//DeepLearningExamples'...\n"
     ]
    }
   ],
   "source": [
    "setup_env(WORKDIR)"
   ]
  },
  {
   "cell_type": "code",
   "execution_count": 7,
   "id": "529a5939",
   "metadata": {},
   "outputs": [],
   "source": [
    "from image_classification import models as convnet_models  # pytype: disable=import-error\n",
    "from image_classification.dataloaders import get_pytorch_val_loader"
   ]
  },
  {
   "cell_type": "code",
   "execution_count": 8,
   "id": "14912c21",
   "metadata": {},
   "outputs": [],
   "source": [
    "MODELS = {\n",
    "    \"resnet50\": convnet_models.resnet50,\n",
    "    \"resnext101-32x4d\": convnet_models.resnext101_32x4d,\n",
    "    \"se-resnext101-32x4d\": convnet_models.se_resnext101_32x4d,\n",
    "    \"efficientnet-b0\": convnet_models.efficientnet_b0,\n",
    "    \"efficientnet-b4\": convnet_models.efficientnet_b4,\n",
    "    \"efficientnet-widese-b0\": convnet_models.efficientnet_widese_b0,\n",
    "    \"efficientnet-widese-b4\": convnet_models.efficientnet_widese_b4,\n",
    "}"
   ]
  },
  {
   "cell_type": "markdown",
   "id": "66d29b8d",
   "metadata": {},
   "source": [
    "### Prepare model and dataloader"
   ]
  },
  {
   "cell_type": "code",
   "execution_count": 9,
   "id": "11b120bf",
   "metadata": {},
   "outputs": [
    {
     "name": "stderr",
     "output_type": "stream",
     "text": [
      "/opt/conda/lib/python3.8/site-packages/torchvision/transforms/transforms.py:321: UserWarning: Argument interpolation should be of type InterpolationMode instead of int. Please, use InterpolationMode enum.\n",
      "  warnings.warn(\n"
     ]
    }
   ],
   "source": [
    "model = MODELS[MODEL_NAME](pretrained=True).eval()\n",
    "\n",
    "val_dataloader, _ = get_pytorch_val_loader(\n",
    "    DATA_PATH, IMAGE_SIZE, BATCH_SIZE, NUM_CLASSES, False\n",
    ")\n"
   ]
  },
  {
   "cell_type": "markdown",
   "id": "f3a621e3",
   "metadata": {},
   "source": [
    "### Export\n",
    "Here we only export to ONNX on CUDA runtime"
   ]
  },
  {
   "cell_type": "code",
   "execution_count": 10,
   "id": "2c3f2d45",
   "metadata": {},
   "outputs": [
    {
     "name": "stderr",
     "output_type": "stream",
     "text": [
      "/opt/conda/lib/python3.8/site-packages/torch/cuda/__init__.py:121: UserWarning: \n",
      "    Found GPU1 NVIDIA GeForce GT 710 which is of cuda capability 3.5.\n",
      "    PyTorch no longer supports this GPU because it is too old.\n",
      "    The minimum cuda capability supported by this library is 5.2.\n",
      "    \n",
      "  warnings.warn(old_gpu_warn % (d, name, major, minor, min_arch // 10, min_arch % 10))\n",
      "/opt/conda/lib/python3.8/site-packages/torch/cuda/__init__.py:144: UserWarning: \n",
      "NVIDIA GeForce GT 710 with CUDA capability sm_35 is not compatible with the current PyTorch installation.\n",
      "The current PyTorch install supports CUDA capabilities sm_52 sm_60 sm_61 sm_70 sm_75 sm_80 sm_86 compute_86.\n",
      "If you want to use the NVIDIA GeForce GT 710 GPU with PyTorch, please check the instructions at https://pytorch.org/get-started/locally/\n",
      "\n",
      "  warnings.warn(incompatible_device_warn.format(device_name, capability, \" \".join(arch_list), device_name))\n",
      "2022-05-04 11:20:04 INFO     Navigator API: ============================== Config parameters ===================================================\n",
      "2022-05-04 11:20:04 INFO     Navigator API: {'framework': 'pytorch', 'model_name': 'resnet50_pyt', 'workdir': '/workspace/repositories/model_navigator/examples/framework/notebooks/navigator_workdir', 'override_workdir': True, 'target_formats': ['onnx'], 'sample_count': 100, 'disable_git_info': False, 'batch_dim': 0, 'seed': 0, 'timestamp': '2022-05-04T11:20:04.404912', '_input_names': ['image'], '_output_names': ['logits'], 'from_source': True, 'max_workspace_size': 8589934592, 'target_precisions': ['fp32', 'fp16'], 'target_jit_type': ['script', 'trace'], 'target_device': 'cuda', 'opset': 14, 'runtimes': ['CUDAExecutionProvider']}\n",
      "2022-05-04 11:20:04 INFO     Navigator API: ============================== Pipeline PyTorch pipeline started ===================================\n",
      "2022-05-04 11:20:04 INFO     Navigator API: ============================== Infer input metadata. ===============================================\n",
      "2022-05-04 11:20:04 INFO     Navigator API: ============================== Fetch input model data ==============================================\n",
      "2022-05-04 11:20:53 WARNING  Navigator API: No TRT (min, opt, max) values for axes provided. Using values derived from the dataloader: {'image': {0: (1, 16, 16), 1: (3, 3, 3), 2: (224, 224, 224), 3: (224, 224, 224)}}.\n",
      "2022-05-04 11:20:53 WARNING  Navigator API: No dynamic axes provided. Using values derived from the dataloader: defaultdict(<class 'list'>, {'image': [0]})\n",
      "2022-05-04 11:21:41 INFO     Navigator API: ============================== Infer output metadata. ==============================================\n",
      "2022-05-04 11:21:42 INFO     Navigator API: ============================== Dump input model data ===============================================\n",
      "2022-05-04 11:21:42 INFO     Navigator API: ============================== Dump output model data ==============================================\n",
      "2022-05-04 11:21:43 INFO     Navigator API: ============================== Export PyTorch to ONNX ==============================================\n",
      "/opt/conda/lib/python3.8/site-packages/torch/onnx/utils.py:1326: UserWarning: No names were found for specified dynamic axes of provided input.Automatically generated names will be applied to each dynamic axes of input image\n",
      "  warnings.warn(\"No names were found for specified dynamic axes of provided input.\"\n",
      "/opt/conda/lib/python3.8/site-packages/torch/onnx/symbolic_helper.py:725: UserWarning: allowzero=0 by default. In order to honor zero value in shape use allowzero=1\n",
      "  warnings.warn(\"allowzero=0 by default. In order to honor zero value in shape use allowzero=1\")\n",
      "2022-05-04 11:21:45 INFO     Navigator API: ============================== Correctness PyTorch to ONNX CUDAExecutionProvider ===================\n",
      "2022-05-04 11:21:46 INFO     Navigator API: ============================== Performance ONNX CUDAExecutionProvider ==============================\n",
      "2022-05-04 11:21:46 INFO     Navigator API: ============================== Generate configurations for Navigator CLI ===========================\n",
      "2022-05-04 11:21:46 INFO     Navigator API: ============================== Framework Navigator summary =========================================\n",
      "2022-05-04 11:21:46 INFO     Navigator API: ============================== Pipeline PyTorch pipeline summary ===================================\n",
      "2022-05-04 11:21:46 INFO     Navigator API: [ OK ] Infer input metadata.\n",
      "2022-05-04 11:21:46 INFO     Navigator API: [ OK ] Fetch input model data\n",
      "2022-05-04 11:21:46 INFO     Navigator API: [ OK ] Infer output metadata.\n",
      "2022-05-04 11:21:46 INFO     Navigator API: [ OK ] Dump input model data\n",
      "2022-05-04 11:21:46 INFO     Navigator API: [ OK ] Dump output model data\n",
      "2022-05-04 11:21:46 INFO     Navigator API: [ OK ] Export PyTorch to ONNX\n",
      "2022-05-04 11:21:46 INFO     Navigator API: [ OK ] Correctness PyTorch to ONNX CUDAExecutionProvider\n",
      "2022-05-04 11:21:46 INFO     Navigator API: [ OK ] Performance ONNX CUDAExecutionProvider\n",
      "2022-05-04 11:21:46 INFO     Navigator API: [ OK ] Generate configurations for Navigator CLI\n",
      "2022-05-04 11:21:50 WARNING  Navigator API: Initially models are not verified. Validate exported models and use PackageDescriptor.set_verified(format, runtime, jit_type, precision) method to set models as verified.\n"
     ]
    }
   ],
   "source": [
    "pkg_desc = nav.torch.export(\n",
    "    model=model,\n",
    "    model_name=f\"{MODEL_NAME}_pyt\",\n",
    "    dataloader=val_dataloader,\n",
    "    override_workdir=True,\n",
    "    target_device=DEVICE,\n",
    "    input_names=(\"image\",),\n",
    "    output_names=(\"logits\",),\n",
    "    runtimes=nav.RuntimeProvider.CUDA,\n",
    "    target_formats=\"onnx\",\n",
    ")"
   ]
  },
  {
   "cell_type": "markdown",
   "id": "e5aafa3a",
   "metadata": {},
   "source": [
    "### Verification\n",
    "Verify if each (format, runtime) passes the accuracy test.\n",
    "PackageDescriptor.get_runner returns [Polygraphy runner](https://github.com/NVIDIA/TensorRT/blob/master/tools/Polygraphy/polygraphy/backend/base/runner.py)"
   ]
  },
  {
   "cell_type": "code",
   "execution_count": 11,
   "id": "9f375d83",
   "metadata": {},
   "outputs": [
    {
     "name": "stderr",
     "output_type": "stream",
     "text": [
      "2022-05-04 11:21:50 INFO     Navigator API: Loading runner from path: /workspace/repositories/model_navigator/examples/framework/notebooks/navigator_workdir/resnet50_pyt.nav.workspace/onnx/model.onnx\n"
     ]
    },
    {
     "name": "stdout",
     "output_type": "stream",
     "text": [
      "For model_status.format=<Format.ONNX: 'onnx'>, model_status.torch_jit=None, model_status.precision=None, runtime_results.runtime=<RuntimeProvider.CUDA: 'CUDAExecutionProvider'> accuracy is 0.7852.\n",
      "Verified.\n"
     ]
    }
   ],
   "source": [
    "for model_status in pkg_desc.navigator_status.model_status:\n",
    "    for runtime_results in model_status.runtime_results:\n",
    "        if runtime_results.status == nav.Status.OK:\n",
    "            runner = pkg_desc.get_runner(\n",
    "                format=model_status.format,\n",
    "                jit_type=model_status.torch_jit,\n",
    "                precision=model_status.precision,\n",
    "                runtime=runtime_results.runtime,\n",
    "            )\n",
    "            acc = get_top1_accuracy(runner, val_dataloader)\n",
    "            print(f\"For {model_status.format=}, {model_status.torch_jit=}, {model_status.precision=}, {runtime_results.runtime=} accuracy is {acc}.\")\n",
    "            if acc > MIN_ACCURACY:\n",
    "                pkg_desc.set_verified(\n",
    "                    format=model_status.format,\n",
    "                    jit_type=model_status.torch_jit,\n",
    "                    precision=model_status.precision,\n",
    "                    runtime=runtime_results.runtime,\n",
    "                )\n",
    "                print(\"Verified.\")\n",
    "            else:\n",
    "                print(f\"Not verified. Min accuracy to be verified is {MIN_ACCURACY}\")"
   ]
  },
  {
   "cell_type": "markdown",
   "id": "18da2b7e",
   "metadata": {},
   "source": [
    "### Save"
   ]
  },
  {
   "cell_type": "code",
   "execution_count": 12,
   "id": "ffa84acd",
   "metadata": {},
   "outputs": [],
   "source": [
    "pkg_desc.save(f\"{MODEL_NAME}_pyt.nav\", keep_workdir=False, override=True)"
   ]
  },
  {
   "cell_type": "code",
   "execution_count": null,
   "id": "b169a42c",
   "metadata": {},
   "outputs": [],
   "source": []
  },
  {
   "cell_type": "code",
   "execution_count": null,
   "id": "bbcf25af",
   "metadata": {},
   "outputs": [],
   "source": []
  },
  {
   "cell_type": "code",
   "execution_count": null,
   "id": "68b6583a",
   "metadata": {},
   "outputs": [],
   "source": []
  },
  {
   "cell_type": "code",
   "execution_count": null,
   "id": "30bd63b5",
   "metadata": {},
   "outputs": [],
   "source": []
  },
  {
   "cell_type": "code",
   "execution_count": null,
   "id": "28d3948f",
   "metadata": {},
   "outputs": [],
   "source": []
  }
 ],
 "metadata": {
  "kernelspec": {
   "display_name": "Python 3 (ipykernel)",
   "language": "python",
   "name": "python3"
  },
  "language_info": {
   "codemirror_mode": {
    "name": "ipython",
    "version": 3
   },
   "file_extension": ".py",
   "mimetype": "text/x-python",
   "name": "python",
   "nbconvert_exporter": "python",
   "pygments_lexer": "ipython3",
   "version": "3.8.12"
  }
 },
 "nbformat": 4,
 "nbformat_minor": 5
}
